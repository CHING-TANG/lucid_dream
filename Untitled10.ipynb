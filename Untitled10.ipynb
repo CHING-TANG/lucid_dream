{
 "cells": [
  {
   "cell_type": "code",
   "execution_count": 102,
   "metadata": {},
   "outputs": [
    {
     "ename": "AttributeError",
     "evalue": "'NoneType' object has no attribute 'text'",
     "output_type": "error",
     "traceback": [
      "\u001b[1;31m---------------------------------------------------------------------------\u001b[0m",
      "\u001b[1;31mAttributeError\u001b[0m                            Traceback (most recent call last)",
      "\u001b[1;32m<ipython-input-102-1804c495c9a4>\u001b[0m in \u001b[0;36m<module>\u001b[1;34m()\u001b[0m\n\u001b[0;32m     20\u001b[0m                 \u001b[0mstories2\u001b[0m \u001b[1;33m=\u001b[0m \u001b[0msoup2\u001b[0m\u001b[1;33m.\u001b[0m\u001b[0mfind\u001b[0m\u001b[1;33m(\u001b[0m\u001b[0mid\u001b[0m\u001b[1;33m=\u001b[0m\u001b[1;34m\"favcount\"\u001b[0m\u001b[1;33m)\u001b[0m\u001b[1;33m\u001b[0m\u001b[0m\n\u001b[0;32m     21\u001b[0m \u001b[1;31m#                 print(stories2.text)\u001b[0m\u001b[1;33m\u001b[0m\u001b[1;33m\u001b[0m\u001b[0m\n\u001b[1;32m---> 22\u001b[1;33m                 \u001b[0mout_file\u001b[0m\u001b[1;33m.\u001b[0m\u001b[0mwrite\u001b[0m\u001b[1;33m(\u001b[0m\u001b[1;34m'\\n'\u001b[0m\u001b[1;33m+\u001b[0m \u001b[0mstories2\u001b[0m\u001b[1;33m.\u001b[0m\u001b[0mtext\u001b[0m \u001b[1;33m+\u001b[0m\u001b[1;34m\",.,\"\u001b[0m\u001b[1;33m+\u001b[0m \u001b[0mi\u001b[0m\u001b[1;33m.\u001b[0m\u001b[0mtext\u001b[0m \u001b[1;33m+\u001b[0m\u001b[1;34m\",.,\"\u001b[0m\u001b[1;33m+\u001b[0m \u001b[0mi\u001b[0m\u001b[1;33m.\u001b[0m\u001b[0mget\u001b[0m\u001b[1;33m(\u001b[0m\u001b[1;34m'href'\u001b[0m\u001b[1;33m)\u001b[0m\u001b[1;33m)\u001b[0m\u001b[1;33m\u001b[0m\u001b[0m\n\u001b[0m\u001b[0;32m     23\u001b[0m                 \u001b[0mtime\u001b[0m\u001b[1;33m.\u001b[0m\u001b[0msleep\u001b[0m\u001b[1;33m(\u001b[0m\u001b[1;36m10\u001b[0m\u001b[1;33m)\u001b[0m\u001b[1;33m\u001b[0m\u001b[0m\n",
      "\u001b[1;31mAttributeError\u001b[0m: 'NoneType' object has no attribute 'text'"
     ]
    }
   ],
   "source": [
    "import requests\n",
    "from bs4 import BeautifulSoup\n",
    "import time\n",
    "\n",
    "filename = \"test.txt\"\n",
    "\n",
    "with open(filename, 'a', encoding='utf8') as out_file:\n",
    "    for k in range(1247, 0, -1):\n",
    "        res = requests.get('https://e-hentai.org/?page='+str(k)+'&f_doujinshi=on&f_manga=on&f_artistcg=on&f_gamecg=on&f_western=on&f_non-h=on&f_imageset=on&f_cosplay=on&f_asianporn=on&f_misc=on&advsearch=1&f_search=language%3Achinese&f_srdd=4&f_sname=on&f_stags=on&f_sr=on&f_apply=Apply+Filter')\n",
    "        soup = BeautifulSoup(res.text, 'html.parser')\n",
    "        stories = soup.find_all('a')\n",
    "        time.sleep(10)\n",
    "\n",
    "        for i in stories:\n",
    "            if i.get('onmouseout'):\n",
    "    #             print(i.text)\n",
    "    #             print(i.get('href'))      \n",
    "                res2 = requests.get(str(i.get('href')))\n",
    "                soup2 = BeautifulSoup(res2.text, 'html.parser')\n",
    "                stories2 = soup2.find(id=\"favcount\")\n",
    "#                 print(stories2.text)\n",
    "                out_file.write('\\n'+ stories2.text +\",.,\"+ i.text +\",.,\"+ i.get('href'))\n",
    "                time.sleep(10)\n"
   ]
  },
  {
   "cell_type": "code",
   "execution_count": 74,
   "metadata": {},
   "outputs": [
    {
     "data": {
      "text/plain": [
       "[<a href=\"https://e-hentai.org/\">Front Page</a>,\n",
       " <a href=\"https://e-hentai.org/torrents.php\">Torrents</a>,\n",
       " <a href=\"https://e-hentai.org/favorites.php\">Favorites</a>,\n",
       " <a href=\"https://e-hentai.org/home.php\">My Home</a>,\n",
       " <a href=\"https://upload.e-hentai.org/manage.php\">My Galleries</a>,\n",
       " <a href=\"https://e-hentai.org/toplist.php\">Toplists</a>,\n",
       " <a href=\"https://e-hentai.org/bounty.php\">Bounties</a>,\n",
       " <a href=\"https://e-hentai.org/news.php\">News</a>,\n",
       " <a href=\"https://forums.e-hentai.org/\">Forums</a>,\n",
       " <a href=\"https://ehwiki.org/\">Wiki</a>,\n",
       " <a href=\"https://hentaiverse.org/\" onclick=\"popUp('https://hentaiverse.org/',1250,720); return false\">HentaiVerse</a>,\n",
       " <a href=\"#\" onclick=\"toggle_advsearch_pane(this); return false\" rel=\"nofollow\">Show Advanced Options</a>,\n",
       " <a href=\"#\" onclick=\"toggle_filesearch_pane(this); return false\" rel=\"nofollow\">Show File Search</a>,\n",
       " <a href=\"https://e-hentai.org/?f_doujinshi=on&amp;f_manga=on&amp;f_artistcg=on&amp;f_gamecg=on&amp;f_western=on&amp;f_non-h=on&amp;f_imageset=on&amp;f_cosplay=on&amp;f_asianporn=on&amp;f_misc=on&amp;f_search=language%3Achinese&amp;f_apply=Apply+Filter&amp;inline_set=dm_t\" rel=\"nofollow\">Show Thumbnails</a>,\n",
       " <a href=\"https://e-hentai.org/?f_doujinshi=on&amp;f_manga=on&amp;f_artistcg=on&amp;f_gamecg=on&amp;f_western=on&amp;f_non-h=on&amp;f_imageset=on&amp;f_cosplay=on&amp;f_asianporn=on&amp;f_misc=on&amp;f_search=language%3Achinese&amp;f_apply=Apply+Filter\" onclick=\"return false\">1</a>,\n",
       " <a href=\"https://e-hentai.org/?page=1&amp;f_doujinshi=on&amp;f_manga=on&amp;f_artistcg=on&amp;f_gamecg=on&amp;f_western=on&amp;f_non-h=on&amp;f_imageset=on&amp;f_cosplay=on&amp;f_asianporn=on&amp;f_misc=on&amp;f_search=language%3Achinese&amp;f_apply=Apply+Filter\" onclick=\"return false\">2</a>,\n",
       " <a href=\"https://e-hentai.org/?page=2&amp;f_doujinshi=on&amp;f_manga=on&amp;f_artistcg=on&amp;f_gamecg=on&amp;f_western=on&amp;f_non-h=on&amp;f_imageset=on&amp;f_cosplay=on&amp;f_asianporn=on&amp;f_misc=on&amp;f_search=language%3Achinese&amp;f_apply=Apply+Filter\" onclick=\"return false\">3</a>,\n",
       " <a href=\"https://e-hentai.org/?page=3&amp;f_doujinshi=on&amp;f_manga=on&amp;f_artistcg=on&amp;f_gamecg=on&amp;f_western=on&amp;f_non-h=on&amp;f_imageset=on&amp;f_cosplay=on&amp;f_asianporn=on&amp;f_misc=on&amp;f_search=language%3Achinese&amp;f_apply=Apply+Filter\" onclick=\"return false\">4</a>,\n",
       " <a href=\"https://e-hentai.org/?page=4&amp;f_doujinshi=on&amp;f_manga=on&amp;f_artistcg=on&amp;f_gamecg=on&amp;f_western=on&amp;f_non-h=on&amp;f_imageset=on&amp;f_cosplay=on&amp;f_asianporn=on&amp;f_misc=on&amp;f_search=language%3Achinese&amp;f_apply=Apply+Filter\" onclick=\"return false\">5</a>,\n",
       " <a href=\"https://e-hentai.org/?page=5&amp;f_doujinshi=on&amp;f_manga=on&amp;f_artistcg=on&amp;f_gamecg=on&amp;f_western=on&amp;f_non-h=on&amp;f_imageset=on&amp;f_cosplay=on&amp;f_asianporn=on&amp;f_misc=on&amp;f_search=language%3Achinese&amp;f_apply=Apply+Filter\" onclick=\"return false\">6</a>,\n",
       " <a href=\"https://e-hentai.org/?page=6&amp;f_doujinshi=on&amp;f_manga=on&amp;f_artistcg=on&amp;f_gamecg=on&amp;f_western=on&amp;f_non-h=on&amp;f_imageset=on&amp;f_cosplay=on&amp;f_asianporn=on&amp;f_misc=on&amp;f_search=language%3Achinese&amp;f_apply=Apply+Filter\" onclick=\"return false\">7</a>,\n",
       " <a href=\"https://e-hentai.org/?page=7&amp;f_doujinshi=on&amp;f_manga=on&amp;f_artistcg=on&amp;f_gamecg=on&amp;f_western=on&amp;f_non-h=on&amp;f_imageset=on&amp;f_cosplay=on&amp;f_asianporn=on&amp;f_misc=on&amp;f_search=language%3Achinese&amp;f_apply=Apply+Filter\" onclick=\"return false\">8</a>,\n",
       " <a href=\"https://e-hentai.org/?page=8&amp;f_doujinshi=on&amp;f_manga=on&amp;f_artistcg=on&amp;f_gamecg=on&amp;f_western=on&amp;f_non-h=on&amp;f_imageset=on&amp;f_cosplay=on&amp;f_asianporn=on&amp;f_misc=on&amp;f_search=language%3Achinese&amp;f_apply=Apply+Filter\" onclick=\"return false\">9</a>,\n",
       " <a href=\"https://e-hentai.org/?page=1331&amp;f_doujinshi=on&amp;f_manga=on&amp;f_artistcg=on&amp;f_gamecg=on&amp;f_western=on&amp;f_non-h=on&amp;f_imageset=on&amp;f_cosplay=on&amp;f_asianporn=on&amp;f_misc=on&amp;f_search=language%3Achinese&amp;f_apply=Apply+Filter\" onclick=\"return false\">1332</a>,\n",
       " <a href=\"https://e-hentai.org/?page=1&amp;f_doujinshi=on&amp;f_manga=on&amp;f_artistcg=on&amp;f_gamecg=on&amp;f_western=on&amp;f_non-h=on&amp;f_imageset=on&amp;f_cosplay=on&amp;f_asianporn=on&amp;f_misc=on&amp;f_search=language%3Achinese&amp;f_apply=Apply+Filter\" onclick=\"return false\">&gt;</a>,\n",
       " <a href=\"https://e-hentai.org/doujinshi\"><img alt=\"doujinshi\" class=\"ic\" src=\"https://ehgt.org/g/c/doujinshi.png\"/></a>,\n",
       " <a href=\"https://e-hentai.org/gallerytorrents.php?gid=1313388&amp;t=801e4af855\" onclick=\"return popUp('https://e-hentai.org/gallerytorrents.php?gid=1313388&amp;t=801e4af855', 610, 590)\" rel=\"nofollow\"><img alt=\"T\" class=\"n\" src=\"https://ehgt.org/g/t.png\" title=\"Torrents exist for this gallery\"/></a>,\n",
       " <a href=\"https://e-hentai.org/g/1313388/801e4af855/\" onmouseout=\"hide_image_pane(1313388)\" onmouseover=\"show_image_pane(1313388)\">[Minazuki Mikka] Akumu 1 ~Boku dake no Sensei~ [Chinese] [含着个人汉化]</a>,\n",
       " <a href=\"https://e-hentai.org/uploader/alfredmeow\">alfredmeow</a>,\n",
       " <a href=\"https://e-hentai.org/doujinshi\"><img alt=\"doujinshi\" class=\"ic\" src=\"https://ehgt.org/g/c/doujinshi.png\"/></a>,\n",
       " <a href=\"https://e-hentai.org/gallerytorrents.php?gid=1313350&amp;t=923f1bec44\" onclick=\"return popUp('https://e-hentai.org/gallerytorrents.php?gid=1313350&amp;t=923f1bec44', 610, 590)\" rel=\"nofollow\"><img alt=\"T\" class=\"n\" src=\"https://ehgt.org/g/t.png\" title=\"Torrents exist for this gallery\"/></a>,\n",
       " <a href=\"https://e-hentai.org/g/1313350/923f1bec44/\" onmouseout=\"hide_image_pane(1313350)\" onmouseover=\"show_image_pane(1313350)\">(SC2018 Autumn) [Imitation Moon (Narumi Yuu)] Mai-san Ecchi Shimasen ka? (Seishun Buta Yarou wa Bunny Girl Senpai no Yume o Minai) [Chinese] [oo君個人漢化]</a>,\n",
       " <a href=\"https://e-hentai.org/uploader/sleep112\">sleep112</a>,\n",
       " <a href=\"https://e-hentai.org/doujinshi\"><img alt=\"doujinshi\" class=\"ic\" src=\"https://ehgt.org/g/c/doujinshi.png\"/></a>,\n",
       " <a href=\"https://e-hentai.org/gallerytorrents.php?gid=1313282&amp;t=3574e7936f\" onclick=\"return popUp('https://e-hentai.org/gallerytorrents.php?gid=1313282&amp;t=3574e7936f', 610, 590)\" rel=\"nofollow\"><img alt=\"T\" class=\"n\" src=\"https://ehgt.org/g/t.png\" title=\"Torrents exist for this gallery\"/></a>,\n",
       " <a href=\"https://e-hentai.org/g/1313282/3574e7936f/\" onmouseout=\"hide_image_pane(1313282)\" onmouseover=\"show_image_pane(1313282)\">(C94) [R-Deco (Yusa)] [Hihou] Seiso Shikkaku (Mito Tsukino) [Chinese] [杂鱼DD汉化组]</a>,\n",
       " <a href=\"https://e-hentai.org/uploader/Wkey\">Wkey</a>,\n",
       " <a href=\"https://e-hentai.org/doujinshi\"><img alt=\"doujinshi\" class=\"ic\" src=\"https://ehgt.org/g/c/doujinshi.png\"/></a>,\n",
       " <a href=\"https://e-hentai.org/gallerytorrents.php?gid=1313221&amp;t=0d4e6c675b\" onclick=\"return popUp('https://e-hentai.org/gallerytorrents.php?gid=1313221&amp;t=0d4e6c675b', 610, 590)\" rel=\"nofollow\"><img alt=\"T\" class=\"n\" src=\"https://ehgt.org/g/t.png\" title=\"Torrents exist for this gallery\"/></a>,\n",
       " <a href=\"https://e-hentai.org/g/1313221/0d4e6c675b/\" onmouseout=\"hide_image_pane(1313221)\" onmouseover=\"show_image_pane(1313221)\">(BanG Dreamer's Party! 5th STAGE) [Hatakewotagayasudake (Mikanuji)] Ryokan de Kimi to Touhikou (BanG Dream!) [Chinese] [EZR個人漢化]</a>,\n",
       " <a href=\"https://e-hentai.org/uploader/doushalin\">doushalin</a>,\n",
       " <a href=\"https://e-hentai.org/doujinshi\"><img alt=\"doujinshi\" class=\"ic\" src=\"https://ehgt.org/g/c/doujinshi.png\"/></a>,\n",
       " <a href=\"https://e-hentai.org/gallerytorrents.php?gid=1313250&amp;t=03c501fb04\" onclick=\"return popUp('https://e-hentai.org/gallerytorrents.php?gid=1313250&amp;t=03c501fb04', 610, 590)\" rel=\"nofollow\"><img alt=\"T\" class=\"n\" src=\"https://ehgt.org/g/t.png\" title=\"Torrents exist for this gallery\"/></a>,\n",
       " <a href=\"https://e-hentai.org/g/1313250/03c501fb04/\" onmouseout=\"hide_image_pane(1313250)\" onmouseover=\"show_image_pane(1313250)\">(SPARK12) [Fuzainoyamada (Fuzai Yumoto)] Danshi Kinsei | Boys Prohibited (Boku no Hero Academia)[Chinese] [沒有漢化]</a>,\n",
       " <a href=\"https://e-hentai.org/uploader/x392\">x392</a>,\n",
       " <a href=\"https://e-hentai.org/non-h\"><img alt=\"non-h\" class=\"ic\" src=\"https://ehgt.org/g/c/non-h.png\"/></a>,\n",
       " <a href=\"https://e-hentai.org/gallerytorrents.php?gid=1313248&amp;t=974cc7eabe\" onclick=\"return popUp('https://e-hentai.org/gallerytorrents.php?gid=1313248&amp;t=974cc7eabe', 610, 590)\" rel=\"nofollow\"><img alt=\"T\" class=\"n\" src=\"https://ehgt.org/g/t.png\" title=\"Torrents exist for this gallery\"/></a>,\n",
       " <a href=\"https://e-hentai.org/g/1313248/974cc7eabe/\" onmouseout=\"hide_image_pane(1313248)\" onmouseover=\"show_image_pane(1313248)\">[Zeroyon] KanColle Matome | 艦隊收藏創作合集 (Kantai Collection -KanColle-) [Chinese] [三色的閃刀姬護國戰線]</a>,\n",
       " <a href=\"https://e-hentai.org/uploader/futarina\">futarina</a>,\n",
       " <a href=\"https://e-hentai.org/non-h\"><img alt=\"non-h\" class=\"ic\" src=\"https://ehgt.org/g/c/non-h.png\"/></a>,\n",
       " <a href=\"https://e-hentai.org/g/1313246/bee35c3df4/\" onmouseout=\"hide_image_pane(1313246)\" onmouseover=\"show_image_pane(1313246)\">[kamicat] Kachi No Katachi | 取勝的形式 [Chinese][三色的大猩猩翻譯同盟]</a>,\n",
       " <a href=\"https://e-hentai.org/uploader/futarina\">futarina</a>,\n",
       " <a href=\"https://e-hentai.org/doujinshi\"><img alt=\"doujinshi\" class=\"ic\" src=\"https://ehgt.org/g/c/doujinshi.png\"/></a>,\n",
       " <a href=\"https://e-hentai.org/gallerytorrents.php?gid=1313222&amp;t=0b8011f9f6\" onclick=\"return popUp('https://e-hentai.org/gallerytorrents.php?gid=1313222&amp;t=0b8011f9f6', 610, 590)\" rel=\"nofollow\"><img alt=\"T\" class=\"n\" src=\"https://ehgt.org/g/t.png\" title=\"Torrents exist for this gallery\"/></a>,\n",
       " <a href=\"https://e-hentai.org/g/1313222/0b8011f9f6/\" onmouseout=\"hide_image_pane(1313222)\" onmouseover=\"show_image_pane(1313222)\">(C94) [napolinu (Napo)] Datenshi Corruption II (Love Live! Sunshine!!) [Chinese] [靴下汉化组]</a>,\n",
       " <a href=\"https://e-hentai.org/uploader/qq3870990\">qq3870990</a>,\n",
       " <a href=\"https://e-hentai.org/non-h\"><img alt=\"non-h\" class=\"ic\" src=\"https://ehgt.org/g/c/non-h.png\"/></a>,\n",
       " <a href=\"https://e-hentai.org/gallerytorrents.php?gid=1313218&amp;t=fa45753e90\" onclick=\"return popUp('https://e-hentai.org/gallerytorrents.php?gid=1313218&amp;t=fa45753e90', 610, 590)\" rel=\"nofollow\"><img alt=\"T\" class=\"n\" src=\"https://ehgt.org/g/t.png\" title=\"Torrents exist for this gallery\"/></a>,\n",
       " <a href=\"https://e-hentai.org/g/1313218/fa45753e90/\" onmouseout=\"hide_image_pane(1313218)\" onmouseover=\"show_image_pane(1313218)\">(SC2018 Autumn) [SEQMED (Yumeno Owari)] over QMR 37 (Kantai Collection -KanColle-) [Chinese] [屏幕脏了汉化组]</a>,\n",
       " <a href=\"https://e-hentai.org/uploader/HKryusei\">HKryusei</a>,\n",
       " <a href=\"https://e-hentai.org/doujinshi\"><img alt=\"doujinshi\" class=\"ic\" src=\"https://ehgt.org/g/c/doujinshi.png\"/></a>,\n",
       " <a href=\"https://e-hentai.org/gallerytorrents.php?gid=1313214&amp;t=1643147800\" onclick=\"return popUp('https://e-hentai.org/gallerytorrents.php?gid=1313214&amp;t=1643147800', 610, 590)\" rel=\"nofollow\"><img alt=\"T\" class=\"n\" src=\"https://ehgt.org/g/t.png\" title=\"Torrents exist for this gallery\"/></a>,\n",
       " <a href=\"https://e-hentai.org/g/1313214/1643147800/\" onmouseout=\"hide_image_pane(1313214)\" onmouseover=\"show_image_pane(1313214)\">(C92) [ciaociao (Araki Kanao)] kantai parade (Kantai Collection -KanColle-) [Chinese] [嗶咔嗶咔漢化組]</a>,\n",
       " <a href=\"https://e-hentai.org/uploader/alfredmeow\">alfredmeow</a>,\n",
       " <a href=\"https://e-hentai.org/non-h\"><img alt=\"non-h\" class=\"ic\" src=\"https://ehgt.org/g/c/non-h.png\"/></a>,\n",
       " <a href=\"https://e-hentai.org/g/1313200/058e72254f/\" onmouseout=\"hide_image_pane(1313200)\" onmouseover=\"show_image_pane(1313200)\">(COMIC1☆14) [SEQMED (Yumeno Owari)] over QMR 36 (Kantai Collection -KanColle-) [Chinese] [屏幕脏了汉化组]</a>,\n",
       " <a href=\"https://e-hentai.org/uploader/HKryusei\">HKryusei</a>,\n",
       " <a href=\"https://e-hentai.org/non-h\"><img alt=\"non-h\" class=\"ic\" src=\"https://ehgt.org/g/c/non-h.png\"/></a>,\n",
       " <a href=\"https://e-hentai.org/g/1311686/86326cbe64/\" onmouseout=\"hide_image_pane(1311686)\" onmouseover=\"show_image_pane(1311686)\">[TAKU] IDOL CIVIL WAR (THE iDOLM@STER)</a>,\n",
       " <a href=\"https://e-hentai.org/uploader/hsunmao321\">hsunmao321</a>,\n",
       " <a href=\"https://e-hentai.org/doujinshi\"><img alt=\"doujinshi\" class=\"ic\" src=\"https://ehgt.org/g/c/doujinshi.png\"/></a>,\n",
       " <a href=\"https://e-hentai.org/g/1313190/54abb5c960/\" onmouseout=\"hide_image_pane(1313190)\" onmouseover=\"show_image_pane(1313190)\">[Ankoman] Scathach vs Chinpira 斯卡哈VS雜魚(Fate/Grand Order)[chinese][輓歌個人漢化]</a>,\n",
       " <a href=\"https://e-hentai.org/uploader/%25E5%25A4%25A9%25E5%25AE%25AB%25E6%2582%25A0\">天宫悠</a>,\n",
       " <a href=\"https://e-hentai.org/manga\"><img alt=\"manga\" class=\"ic\" src=\"https://ehgt.org/g/c/manga.png\"/></a>,\n",
       " <a href=\"https://e-hentai.org/gallerytorrents.php?gid=1313176&amp;t=36662075a3\" onclick=\"return popUp('https://e-hentai.org/gallerytorrents.php?gid=1313176&amp;t=36662075a3', 610, 590)\" rel=\"nofollow\"><img alt=\"T\" class=\"n\" src=\"https://ehgt.org/g/t.png\" title=\"Torrents exist for this gallery\"/></a>,\n",
       " <a href=\"https://e-hentai.org/g/1313176/36662075a3/\" onmouseout=\"hide_image_pane(1313176)\" onmouseover=\"show_image_pane(1313176)\">[Anthology] 2D Comic Magazine Tenshi ni Ochiru Akuma-tachi Vol. 1 [Chinese] [这很恶堕汉化组] [Digital]</a>,\n",
       " <a href=\"https://e-hentai.org/uploader/qq3870990\">qq3870990</a>,\n",
       " <a href=\"https://e-hentai.org/doujinshi\"><img alt=\"doujinshi\" class=\"ic\" src=\"https://ehgt.org/g/c/doujinshi.png\"/></a>,\n",
       " <a href=\"https://e-hentai.org/gallerytorrents.php?gid=1313175&amp;t=d9f71fedde\" onclick=\"return popUp('https://e-hentai.org/gallerytorrents.php?gid=1313175&amp;t=d9f71fedde', 610, 590)\" rel=\"nofollow\"><img alt=\"T\" class=\"n\" src=\"https://ehgt.org/g/t.png\" title=\"Torrents exist for this gallery\"/></a>,\n",
       " <a href=\"https://e-hentai.org/g/1313175/d9f71fedde/\" onmouseout=\"hide_image_pane(1313175)\" onmouseover=\"show_image_pane(1313175)\">(C94) [Jagabata (Kuguri Oimo)] Hayami Kanade to Icha Love 7 Days (THE IDOLM@STER CINDERELLA GIRLS) [Chinese] [無邪気漢化組]</a>,\n",
       " <a href=\"https://e-hentai.org/uploader/%25E9%2585%2592%25E6%25AD%258CCharlie\">酒歌Charlie</a>,\n",
       " <a href=\"https://e-hentai.org/doujinshi\"><img alt=\"doujinshi\" class=\"ic\" src=\"https://ehgt.org/g/c/doujinshi.png\"/></a>,\n",
       " <a href=\"https://e-hentai.org/gallerytorrents.php?gid=1313171&amp;t=380f0b95fb\" onclick=\"return popUp('https://e-hentai.org/gallerytorrents.php?gid=1313171&amp;t=380f0b95fb', 610, 590)\" rel=\"nofollow\"><img alt=\"T\" class=\"n\" src=\"https://ehgt.org/g/t.png\" title=\"Torrents exist for this gallery\"/></a>,\n",
       " <a href=\"https://e-hentai.org/g/1313171/380f0b95fb/\" onmouseout=\"hide_image_pane(1313171)\" onmouseover=\"show_image_pane(1313171)\">[Minazuki Mikka] Musuko o Dame ni Shita no wa Watashi no Karada deshita. | What Made the Son Useless was his Mother's Body  [Chinese] [含着个人汉化]</a>,\n",
       " <a href=\"https://e-hentai.org/uploader/alfredmeow\">alfredmeow</a>,\n",
       " <a href=\"https://e-hentai.org/doujinshi\"><img alt=\"doujinshi\" class=\"ic\" src=\"https://ehgt.org/g/c/doujinshi.png\"/></a>,\n",
       " <a href=\"https://e-hentai.org/gallerytorrents.php?gid=1313156&amp;t=36deec2439\" onclick=\"return popUp('https://e-hentai.org/gallerytorrents.php?gid=1313156&amp;t=36deec2439', 610, 590)\" rel=\"nofollow\"><img alt=\"T\" class=\"n\" src=\"https://ehgt.org/g/t.png\" title=\"Torrents exist for this gallery\"/></a>,\n",
       " <a href=\"https://e-hentai.org/g/1313156/36deec2439/\" onmouseout=\"hide_image_pane(1313156)\" onmouseover=\"show_image_pane(1313156)\">(Shoujo Senryaku Saizensen) [Earthean (Syoukaki)] Summer Escape (Girls' Frontline) [Chinese] [屏幕髒了漢化組]</a>,\n",
       " <a href=\"https://e-hentai.org/uploader/HKryusei\">HKryusei</a>,\n",
       " <a href=\"https://e-hentai.org/doujinshi\"><img alt=\"doujinshi\" class=\"ic\" src=\"https://ehgt.org/g/c/doujinshi.png\"/></a>,\n",
       " <a href=\"https://e-hentai.org/gallerytorrents.php?gid=1313092&amp;t=2e201a35a9\" onclick=\"return popUp('https://e-hentai.org/gallerytorrents.php?gid=1313092&amp;t=2e201a35a9', 610, 590)\" rel=\"nofollow\"><img alt=\"T\" class=\"n\" src=\"https://ehgt.org/g/t.png\" title=\"Torrents exist for this gallery\"/></a>,\n",
       " <a href=\"https://e-hentai.org/g/1313092/2e201a35a9/\" onmouseout=\"hide_image_pane(1313092)\" onmouseover=\"show_image_pane(1313092)\">[Kaze no Gotoku! (Fubuki Poni, Fujutsushi)] Mahou Shoujo Zetsubou Kansatsu Kiroku (Puella Magi Madoka Magica) [Chinese] [吼姆喵个人汉化] [Digital]</a>,\n",
       " <a href=\"https://e-hentai.org/uploader/ltsjt\">ltsjt</a>,\n",
       " <a href=\"https://e-hentai.org/non-h\"><img alt=\"non-h\" class=\"ic\" src=\"https://ehgt.org/g/c/non-h.png\"/></a>,\n",
       " <a href=\"https://e-hentai.org/g/1313090/5f5ff8fba2/\" onmouseout=\"hide_image_pane(1313090)\" onmouseover=\"show_image_pane(1313090)\">[Kobayashi Kina] Hatsukoi ga Bishoujo de, Ikinone o Tomerarete Shimatta Shounen no Hanashi. | 被初恋的美少女♂逼上绝境的少年的故事 [Chinese] [瑞树汉化组]</a>,\n",
       " <a href=\"https://e-hentai.org/uploader/%25E5%2596%25B5%25E9%2593%2583%25E9%2585%25B1\">喵铃酱</a>,\n",
       " <a href=\"https://e-hentai.org/doujinshi\"><img alt=\"doujinshi\" class=\"ic\" src=\"https://ehgt.org/g/c/doujinshi.png\"/></a>,\n",
       " <a href=\"https://e-hentai.org/gallerytorrents.php?gid=1313043&amp;t=3619eefa35\" onclick=\"return popUp('https://e-hentai.org/gallerytorrents.php?gid=1313043&amp;t=3619eefa35', 610, 590)\" rel=\"nofollow\"><img alt=\"T\" class=\"n\" src=\"https://ehgt.org/g/t.png\" title=\"Torrents exist for this gallery\"/></a>,\n",
       " <a href=\"https://e-hentai.org/g/1313043/3619eefa35/\" onmouseout=\"hide_image_pane(1313043)\" onmouseover=\"show_image_pane(1313043)\">[Sushipuri (Kanbe Chuji)] Dare demo Toilet (Whistle!) [Chinese] [新桥月白有偿汉化] [Digital]</a>,\n",
       " <a href=\"https://e-hentai.org/uploader/qq3870990\">qq3870990</a>,\n",
       " <a href=\"https://e-hentai.org/doujinshi\"><img alt=\"doujinshi\" class=\"ic\" src=\"https://ehgt.org/g/c/doujinshi.png\"/></a>,\n",
       " <a href=\"https://e-hentai.org/gallerytorrents.php?gid=1312996&amp;t=cb78d4394e\" onclick=\"return popUp('https://e-hentai.org/gallerytorrents.php?gid=1312996&amp;t=cb78d4394e', 610, 590)\" rel=\"nofollow\"><img alt=\"T\" class=\"n\" src=\"https://ehgt.org/g/t.png\" title=\"Torrents exist for this gallery\"/></a>,\n",
       " <a href=\"https://e-hentai.org/g/1312996/cb78d4394e/\" onmouseout=\"hide_image_pane(1312996)\" onmouseover=\"show_image_pane(1312996)\">(Shuuki Reitaisai 5) [Fumituki (Erotuki, Fumituki)] PatchouKoa Nyuuetsu Shujuu Gyakutenda (Touhou Project) [Chinese] [靴下汉化组]</a>,\n",
       " <a href=\"https://e-hentai.org/uploader/qq3870990\">qq3870990</a>,\n",
       " <a href=\"https://e-hentai.org/doujinshi\"><img alt=\"doujinshi\" class=\"ic\" src=\"https://ehgt.org/g/c/doujinshi.png\"/></a>,\n",
       " <a href=\"https://e-hentai.org/gallerytorrents.php?gid=1312969&amp;t=bd05cacadb\" onclick=\"return popUp('https://e-hentai.org/gallerytorrents.php?gid=1312969&amp;t=bd05cacadb', 610, 590)\" rel=\"nofollow\"><img alt=\"T\" class=\"n\" src=\"https://ehgt.org/g/t.png\" title=\"Torrents exist for this gallery\"/></a>,\n",
       " <a href=\"https://e-hentai.org/g/1312969/bd05cacadb/\" onmouseout=\"hide_image_pane(1312969)\" onmouseover=\"show_image_pane(1312969)\">(C94) [Sekine (Sekine Hajime)] Nade Camp (Yuru Camp) [Chinese] [oo君個人漢化]</a>,\n",
       " <a href=\"https://e-hentai.org/uploader/sleep112\">sleep112</a>,\n",
       " <a href=\"https://e-hentai.org/doujinshi\"><img alt=\"doujinshi\" class=\"ic\" src=\"https://ehgt.org/g/c/doujinshi.png\"/></a>,\n",
       " <a href=\"https://e-hentai.org/gallerytorrents.php?gid=1312966&amp;t=1b80d09890\" onclick=\"return popUp('https://e-hentai.org/gallerytorrents.php?gid=1312966&amp;t=1b80d09890', 610, 590)\" rel=\"nofollow\"><img alt=\"T\" class=\"n\" src=\"https://ehgt.org/g/t.png\" title=\"Torrents exist for this gallery\"/></a>,\n",
       " <a href=\"https://e-hentai.org/g/1312966/1b80d09890/\" onmouseout=\"hide_image_pane(1312966)\" onmouseover=\"show_image_pane(1312966)\">(Reitaisai 13) [Susano Arashi (Takemori Shintarou)] MASTER GIRL (Touhou Project) [Chinese] [oo君個人漢化]</a>,\n",
       " <a href=\"https://e-hentai.org/uploader/sleep112\">sleep112</a>,\n",
       " <a href=\"https://e-hentai.org/doujinshi\"><img alt=\"doujinshi\" class=\"ic\" src=\"https://ehgt.org/g/c/doujinshi.png\"/></a>,\n",
       " <a href=\"https://e-hentai.org/gallerytorrents.php?gid=1312962&amp;t=37f6bdb9e8\" onclick=\"return popUp('https://e-hentai.org/gallerytorrents.php?gid=1312962&amp;t=37f6bdb9e8', 610, 590)\" rel=\"nofollow\"><img alt=\"T\" class=\"n\" src=\"https://ehgt.org/g/t.png\" title=\"Torrents exist for this gallery\"/></a>,\n",
       " <a href=\"https://e-hentai.org/g/1312962/37f6bdb9e8/\" onmouseout=\"hide_image_pane(1312962)\" onmouseover=\"show_image_pane(1312962)\">(Shuuki Reitaisai 5) [@mousse (Yukisiro Arte)] Meiling ni Keiko Tsukete Moraitai!! (Touhou Project) [Chinese] [oo君個人漢化]</a>,\n",
       " <a href=\"https://e-hentai.org/uploader/sleep112\">sleep112</a>,\n",
       " <a href=\"https://e-hentai.org/doujinshi\"><img alt=\"doujinshi\" class=\"ic\" src=\"https://ehgt.org/g/c/doujinshi.png\"/></a>,\n",
       " <a href=\"https://e-hentai.org/gallerytorrents.php?gid=1312939&amp;t=3ac2ae1092\" onclick=\"return popUp('https://e-hentai.org/gallerytorrents.php?gid=1312939&amp;t=3ac2ae1092', 610, 590)\" rel=\"nofollow\"><img alt=\"T\" class=\"n\" src=\"https://ehgt.org/g/t.png\" title=\"Torrents exist for this gallery\"/></a>,\n",
       " <a href=\"https://e-hentai.org/g/1312939/3ac2ae1092/\" onmouseout=\"hide_image_pane(1312939)\" onmouseover=\"show_image_pane(1312939)\">[Atelier Hachifukuan] Superheroine Yuukai Ryoujoku 13-bad ending （有条色狼汉化）</a>,\n",
       " <a href=\"https://e-hentai.org/uploader/demon233\">demon233</a>,\n",
       " <a href=\"https://e-hentai.org/?f_doujinshi=on&amp;f_manga=on&amp;f_artistcg=on&amp;f_gamecg=on&amp;f_western=on&amp;f_non-h=on&amp;f_imageset=on&amp;f_cosplay=on&amp;f_asianporn=on&amp;f_misc=on&amp;f_search=language%3Achinese&amp;f_apply=Apply+Filter\" onclick=\"return false\">1</a>,\n",
       " <a href=\"https://e-hentai.org/?page=1&amp;f_doujinshi=on&amp;f_manga=on&amp;f_artistcg=on&amp;f_gamecg=on&amp;f_western=on&amp;f_non-h=on&amp;f_imageset=on&amp;f_cosplay=on&amp;f_asianporn=on&amp;f_misc=on&amp;f_search=language%3Achinese&amp;f_apply=Apply+Filter\" onclick=\"return false\">2</a>,\n",
       " <a href=\"https://e-hentai.org/?page=2&amp;f_doujinshi=on&amp;f_manga=on&amp;f_artistcg=on&amp;f_gamecg=on&amp;f_western=on&amp;f_non-h=on&amp;f_imageset=on&amp;f_cosplay=on&amp;f_asianporn=on&amp;f_misc=on&amp;f_search=language%3Achinese&amp;f_apply=Apply+Filter\" onclick=\"return false\">3</a>,\n",
       " <a href=\"https://e-hentai.org/?page=3&amp;f_doujinshi=on&amp;f_manga=on&amp;f_artistcg=on&amp;f_gamecg=on&amp;f_western=on&amp;f_non-h=on&amp;f_imageset=on&amp;f_cosplay=on&amp;f_asianporn=on&amp;f_misc=on&amp;f_search=language%3Achinese&amp;f_apply=Apply+Filter\" onclick=\"return false\">4</a>,\n",
       " <a href=\"https://e-hentai.org/?page=4&amp;f_doujinshi=on&amp;f_manga=on&amp;f_artistcg=on&amp;f_gamecg=on&amp;f_western=on&amp;f_non-h=on&amp;f_imageset=on&amp;f_cosplay=on&amp;f_asianporn=on&amp;f_misc=on&amp;f_search=language%3Achinese&amp;f_apply=Apply+Filter\" onclick=\"return false\">5</a>,\n",
       " <a href=\"https://e-hentai.org/?page=5&amp;f_doujinshi=on&amp;f_manga=on&amp;f_artistcg=on&amp;f_gamecg=on&amp;f_western=on&amp;f_non-h=on&amp;f_imageset=on&amp;f_cosplay=on&amp;f_asianporn=on&amp;f_misc=on&amp;f_search=language%3Achinese&amp;f_apply=Apply+Filter\" onclick=\"return false\">6</a>,\n",
       " <a href=\"https://e-hentai.org/?page=6&amp;f_doujinshi=on&amp;f_manga=on&amp;f_artistcg=on&amp;f_gamecg=on&amp;f_western=on&amp;f_non-h=on&amp;f_imageset=on&amp;f_cosplay=on&amp;f_asianporn=on&amp;f_misc=on&amp;f_search=language%3Achinese&amp;f_apply=Apply+Filter\" onclick=\"return false\">7</a>,\n",
       " <a href=\"https://e-hentai.org/?page=7&amp;f_doujinshi=on&amp;f_manga=on&amp;f_artistcg=on&amp;f_gamecg=on&amp;f_western=on&amp;f_non-h=on&amp;f_imageset=on&amp;f_cosplay=on&amp;f_asianporn=on&amp;f_misc=on&amp;f_search=language%3Achinese&amp;f_apply=Apply+Filter\" onclick=\"return false\">8</a>,\n",
       " <a href=\"https://e-hentai.org/?page=8&amp;f_doujinshi=on&amp;f_manga=on&amp;f_artistcg=on&amp;f_gamecg=on&amp;f_western=on&amp;f_non-h=on&amp;f_imageset=on&amp;f_cosplay=on&amp;f_asianporn=on&amp;f_misc=on&amp;f_search=language%3Achinese&amp;f_apply=Apply+Filter\" onclick=\"return false\">9</a>,\n",
       " <a href=\"https://e-hentai.org/?page=1331&amp;f_doujinshi=on&amp;f_manga=on&amp;f_artistcg=on&amp;f_gamecg=on&amp;f_western=on&amp;f_non-h=on&amp;f_imageset=on&amp;f_cosplay=on&amp;f_asianporn=on&amp;f_misc=on&amp;f_search=language%3Achinese&amp;f_apply=Apply+Filter\" onclick=\"return false\">1332</a>,\n",
       " <a href=\"https://e-hentai.org/?page=1&amp;f_doujinshi=on&amp;f_manga=on&amp;f_artistcg=on&amp;f_gamecg=on&amp;f_western=on&amp;f_non-h=on&amp;f_imageset=on&amp;f_cosplay=on&amp;f_asianporn=on&amp;f_misc=on&amp;f_search=language%3Achinese&amp;f_apply=Apply+Filter\" onclick=\"return false\">&gt;</a>,\n",
       " <a href=\"https://forums.e-hentai.org/\">Visit the E-Hentai Forums</a>,\n",
       " <a href=\"https://twitter.com/ehentai\">E-Hentai @ Twitter</a>,\n",
       " <a href=\"https://hentaiverse.org/\" onclick=\"popUp('https://hentaiverse.org/',1250,720); return false\">Play the HentaiVerse Minigame</a>,\n",
       " <a href=\"https://e-hentai.org/lofi/\">Lo-Fi Version</a>,\n",
       " <a href=\"https://e-hentai.org/tos.php\">Terms of Service</a>]"
      ]
     },
     "execution_count": 74,
     "metadata": {},
     "output_type": "execute_result"
    }
   ],
   "source": [
    "stories = soup.find_all('a')\n",
    "# class=\"it5\"\n",
    "stories"
   ]
  },
  {
   "cell_type": "code",
   "execution_count": 86,
   "metadata": {},
   "outputs": [
    {
     "name": "stdout",
     "output_type": "stream",
     "text": [
      "[Minazuki Mikka] Akumu 1 ~Boku dake no Sensei~ [Chinese] [含着个人汉化]\n",
      "https://e-hentai.org/g/1313388/801e4af855/\n",
      "(SC2018 Autumn) [Imitation Moon (Narumi Yuu)] Mai-san Ecchi Shimasen ka? (Seishun Buta Yarou wa Bunny Girl Senpai no Yume o Minai) [Chinese] [oo君個人漢化]\n",
      "https://e-hentai.org/g/1313350/923f1bec44/\n",
      "(C94) [R-Deco (Yusa)] [Hihou] Seiso Shikkaku (Mito Tsukino) [Chinese] [杂鱼DD汉化组]\n",
      "https://e-hentai.org/g/1313282/3574e7936f/\n",
      "(BanG Dreamer's Party! 5th STAGE) [Hatakewotagayasudake (Mikanuji)] Ryokan de Kimi to Touhikou (BanG Dream!) [Chinese] [EZR個人漢化]\n",
      "https://e-hentai.org/g/1313221/0d4e6c675b/\n",
      "(SPARK12) [Fuzainoyamada (Fuzai Yumoto)] Danshi Kinsei | Boys Prohibited (Boku no Hero Academia)[Chinese] [沒有漢化]\n",
      "https://e-hentai.org/g/1313250/03c501fb04/\n",
      "[Zeroyon] KanColle Matome | 艦隊收藏創作合集 (Kantai Collection -KanColle-) [Chinese] [三色的閃刀姬護國戰線]\n",
      "https://e-hentai.org/g/1313248/974cc7eabe/\n",
      "[kamicat] Kachi No Katachi | 取勝的形式 [Chinese][三色的大猩猩翻譯同盟]\n",
      "https://e-hentai.org/g/1313246/bee35c3df4/\n",
      "(C94) [napolinu (Napo)] Datenshi Corruption II (Love Live! Sunshine!!) [Chinese] [靴下汉化组]\n",
      "https://e-hentai.org/g/1313222/0b8011f9f6/\n",
      "(SC2018 Autumn) [SEQMED (Yumeno Owari)] over QMR 37 (Kantai Collection -KanColle-) [Chinese] [屏幕脏了汉化组]\n",
      "https://e-hentai.org/g/1313218/fa45753e90/\n",
      "(C92) [ciaociao (Araki Kanao)] kantai parade (Kantai Collection -KanColle-) [Chinese] [嗶咔嗶咔漢化組]\n",
      "https://e-hentai.org/g/1313214/1643147800/\n",
      "(COMIC1☆14) [SEQMED (Yumeno Owari)] over QMR 36 (Kantai Collection -KanColle-) [Chinese] [屏幕脏了汉化组]\n",
      "https://e-hentai.org/g/1313200/058e72254f/\n",
      "[TAKU] IDOL CIVIL WAR (THE iDOLM@STER)\n",
      "https://e-hentai.org/g/1311686/86326cbe64/\n",
      "[Ankoman] Scathach vs Chinpira 斯卡哈VS雜魚(Fate/Grand Order)[chinese][輓歌個人漢化]\n",
      "https://e-hentai.org/g/1313190/54abb5c960/\n",
      "[Anthology] 2D Comic Magazine Tenshi ni Ochiru Akuma-tachi Vol. 1 [Chinese] [这很恶堕汉化组] [Digital]\n",
      "https://e-hentai.org/g/1313176/36662075a3/\n",
      "(C94) [Jagabata (Kuguri Oimo)] Hayami Kanade to Icha Love 7 Days (THE IDOLM@STER CINDERELLA GIRLS) [Chinese] [無邪気漢化組]\n",
      "https://e-hentai.org/g/1313175/d9f71fedde/\n",
      "[Minazuki Mikka] Musuko o Dame ni Shita no wa Watashi no Karada deshita. | What Made the Son Useless was his Mother's Body  [Chinese] [含着个人汉化]\n",
      "https://e-hentai.org/g/1313171/380f0b95fb/\n",
      "(Shoujo Senryaku Saizensen) [Earthean (Syoukaki)] Summer Escape (Girls' Frontline) [Chinese] [屏幕髒了漢化組]\n",
      "https://e-hentai.org/g/1313156/36deec2439/\n",
      "[Kaze no Gotoku! (Fubuki Poni, Fujutsushi)] Mahou Shoujo Zetsubou Kansatsu Kiroku (Puella Magi Madoka Magica) [Chinese] [吼姆喵个人汉化] [Digital]\n",
      "https://e-hentai.org/g/1313092/2e201a35a9/\n",
      "[Kobayashi Kina] Hatsukoi ga Bishoujo de, Ikinone o Tomerarete Shimatta Shounen no Hanashi. | 被初恋的美少女♂逼上绝境的少年的故事 [Chinese] [瑞树汉化组]\n",
      "https://e-hentai.org/g/1313090/5f5ff8fba2/\n",
      "[Sushipuri (Kanbe Chuji)] Dare demo Toilet (Whistle!) [Chinese] [新桥月白有偿汉化] [Digital]\n",
      "https://e-hentai.org/g/1313043/3619eefa35/\n",
      "(Shuuki Reitaisai 5) [Fumituki (Erotuki, Fumituki)] PatchouKoa Nyuuetsu Shujuu Gyakutenda (Touhou Project) [Chinese] [靴下汉化组]\n",
      "https://e-hentai.org/g/1312996/cb78d4394e/\n",
      "(C94) [Sekine (Sekine Hajime)] Nade Camp (Yuru Camp) [Chinese] [oo君個人漢化]\n",
      "https://e-hentai.org/g/1312969/bd05cacadb/\n",
      "(Reitaisai 13) [Susano Arashi (Takemori Shintarou)] MASTER GIRL (Touhou Project) [Chinese] [oo君個人漢化]\n",
      "https://e-hentai.org/g/1312966/1b80d09890/\n",
      "(Shuuki Reitaisai 5) [@mousse (Yukisiro Arte)] Meiling ni Keiko Tsukete Moraitai!! (Touhou Project) [Chinese] [oo君個人漢化]\n",
      "https://e-hentai.org/g/1312962/37f6bdb9e8/\n",
      "[Atelier Hachifukuan] Superheroine Yuukai Ryoujoku 13-bad ending （有条色狼汉化）\n",
      "https://e-hentai.org/g/1312939/3ac2ae1092/\n"
     ]
    }
   ],
   "source": [
    "for i in stories:\n",
    "    if i.get('onmouseout'):\n",
    "        print(i.text)\n",
    "        print(i.get('href'))\n",
    "        res2 = requests.get('https://e-hentai.org/g/1313388/801e4af855/')\n",
    "        soup2 = BeautifulSoup(res2.text, 'html.parser')\n",
    "        stories2 = soup2.find(id=\"favcount\")\n",
    "        stories2.text\n",
    "        \n",
    "        time.sleep(3)"
   ]
  },
  {
   "cell_type": "code",
   "execution_count": 65,
   "metadata": {},
   "outputs": [],
   "source": [
    "\n",
    "res2 = requests.get('https://e-hentai.org/g/1313388/801e4af855/')\n",
    "soup2 = BeautifulSoup(res2.text, 'html.parser')\n"
   ]
  },
  {
   "cell_type": "code",
   "execution_count": 82,
   "metadata": {},
   "outputs": [
    {
     "data": {
      "text/plain": [
       "'66 times'"
      ]
     },
     "execution_count": 82,
     "metadata": {},
     "output_type": "execute_result"
    }
   ],
   "source": [
    "stories2 = soup2.find(id=\"favcount\")\n",
    "stories2.text"
   ]
  },
  {
   "cell_type": "code",
   "execution_count": null,
   "metadata": {
    "collapsed": true
   },
   "outputs": [],
   "source": []
  },
  {
   "cell_type": "code",
   "execution_count": 83,
   "metadata": {},
   "outputs": [],
   "source": [
    "filename = \"test.txt\"\n",
    "\n",
    "with open(filename, 'w', encoding='utf8') as out_file:\n",
    "    out_file.write(stories2.text +\",\"+ i.text +\",\"+ i.get('href'))\n"
   ]
  },
  {
   "cell_type": "code",
   "execution_count": 100,
   "metadata": {
    "collapsed": true
   },
   "outputs": [],
   "source": [
    "\n",
    "\n",
    "\n",
    "file1 = \"test2.txt\"\n",
    "\n",
    "with open(file1, \"a\" , encoding='utf8') as out:\n",
    "    out.write('\\n'+\"waekk\")"
   ]
  },
  {
   "cell_type": "code",
   "execution_count": null,
   "metadata": {
    "collapsed": true
   },
   "outputs": [],
   "source": []
  }
 ],
 "metadata": {
  "kernelspec": {
   "display_name": "Python 3",
   "language": "python",
   "name": "python3"
  },
  "language_info": {
   "codemirror_mode": {
    "name": "ipython",
    "version": 3
   },
   "file_extension": ".py",
   "mimetype": "text/x-python",
   "name": "python",
   "nbconvert_exporter": "python",
   "pygments_lexer": "ipython3",
   "version": "3.5.4"
  }
 },
 "nbformat": 4,
 "nbformat_minor": 2
}
